{
 "cells": [
  {
   "cell_type": "code",
   "execution_count": 4,
   "id": "8942fa3e-4339-485b-a856-adc319c4d3a6",
   "metadata": {},
   "outputs": [
    {
     "name": "stdin",
     "output_type": "stream",
     "text": [
      "Digite o primeiro número:  4\n",
      "Digite o segundo número:  3\n",
      "Digite o terceiro número:  1\n"
     ]
    },
    {
     "name": "stdout",
     "output_type": "stream",
     "text": [
      "A média dos maiores valores é  3.5\n"
     ]
    }
   ],
   "source": [
    "num1 = int(input(\"Digite o primeiro número: \"))\n",
    "num2 = int(input(\"Digite o segundo número: \"))\n",
    "num3 = int(input(\"Digite o terceiro número: \"))\n",
    "\n",
    "\n",
    "if num1 > num2 and num2 > num3 or num2 > num1 and num1 > num3:\n",
    "     media = (num1 + num2) / 2\n",
    "     print(\"A média dos maiores valores é \", media)\n",
    "elif num1 > num2 and num3 > num2 or num1 > num3 and num3 > num2:\n",
    "    media = (num1 + num3) / 2\n",
    "    print(\"A média dos maiores valores é \", media)\n",
    "elif num2 > num1 and num3 > num2 or num2 > num3 and num3 > num1:\n",
    "    media = (num2 + num3) / 2\n",
    "    print(\"A média dos maiores valores é \", media)\n",
    "else:\n",
    "    media = (num1 + num2) / 2\n",
    "    print(\" A média dos maiores valores é \", media)\n",
    "    "
   ]
  },
  {
   "cell_type": "code",
   "execution_count": null,
   "id": "824cd691-8650-4d0a-a5ca-085ed4b2b166",
   "metadata": {},
   "outputs": [],
   "source": []
  }
 ],
 "metadata": {
  "kernelspec": {
   "display_name": "Python 3 (ipykernel)",
   "language": "python",
   "name": "python3"
  },
  "language_info": {
   "codemirror_mode": {
    "name": "ipython",
    "version": 3
   },
   "file_extension": ".py",
   "mimetype": "text/x-python",
   "name": "python",
   "nbconvert_exporter": "python",
   "pygments_lexer": "ipython3",
   "version": "3.12.7"
  }
 },
 "nbformat": 4,
 "nbformat_minor": 5
}
